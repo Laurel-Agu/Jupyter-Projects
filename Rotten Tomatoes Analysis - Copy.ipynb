{
 "cells": [
  {
   "cell_type": "markdown",
   "id": "eff48852-f959-4617-bf67-b252664ca3d7",
   "metadata": {},
   "source": [
    "# Rotten Tomatoes TV Shows Analysis\n",
    "\n",
    "This notebook scrapes TV show data from Rotten Tomatoes and performs comprehensive analysis including:\n",
    "- Network distribution and performance comparison\n",
    "- Genre popularity and ratings analysis  \n",
    "- Language distribution insights\n",
    "- Critics vs audience score comparisons"
   ]
  },
  {
   "cell_type": "code",
   "execution_count": null,
   "id": "40cb50c5-bd56-4fc6-b5db-2a70ebd92cd9",
   "metadata": {},
   "outputs": [],
   "source": [
    "#import all necessary libraries\n",
    "\n",
    "import pandas as pd\n",
    "import requests\n",
    "from bs4 import BeautifulSoup\n",
    "import time\n",
    "import re"
   ]
  },
  {
   "cell_type": "code",
   "execution_count": null,
   "id": "bdb159d4-6abd-48ed-b9e9-e37d2d7b31f4",
   "metadata": {},
   "outputs": [],
   "source": [
    "url = \"https://www.rottentomatoes.com/browse/tv_series_browse/?page=4\""
   ]
  },
  {
   "cell_type": "code",
   "execution_count": null,
   "id": "73e0d0b1-3875-4eb6-931e-61e41a8e01ab",
   "metadata": {},
   "outputs": [],
   "source": [
    "def scrap_movies(url):\n",
    "\n",
    "#Step 1: Extracting main page content \n",
    "    data = requests.get(url)\n",
    "    soup = BeautifulSoup(data.text, 'lxml')\n",
    "    series_containers = soup.find_all('div', class_='flex-container')\n",
    "\n",
    "    # checking number of TV shows\n",
    "    print(f\"There are {len(series_containers)} TV Shows to process\")\n",
    "    \n",
    "    # creating empty lists\n",
    "    all_shows = []\n",
    "    latest_episodes = []\n",
    "    cover_images = []\n",
    "    cleaned_urls = []\n",
    "\n",
    "    # looping through all TV shows\n",
    "    for show in series_containers:  \n",
    "\n",
    "        # extracting all show names (Element 1)\n",
    "        show_data = show.find(\"span\", class_=\"p--small\").get_text(strip=True)\n",
    "        all_shows.append(show_data)\n",
    "    \n",
    "        # extracting latest episode date (Element 2)\n",
    "        latest_episode_tag = show.find(class_=\"smaller\")\n",
    "        if latest_episode_tag:  # Check if element exists\n",
    "            episode_text = latest_episode_tag.get_text(strip=True)\n",
    "            episode_date = episode_text.replace(\"Latest Episode: \", \"\").strip()\n",
    "            latest_episodes.append(episode_date)\n",
    "        else:\n",
    "            latest_episodes.append(\"Missing\")\n",
    "\n",
    "        # extracting all images (Element 3)\n",
    "        image = show.find(class_=\"posterImage\").get(\"src\")\n",
    "        cover_images.append(image)\n",
    "\n",
    "    # looping through all extracted show names\n",
    "    for s in all_shows:\n",
    "\n",
    "        # preparing URLs using extracted show names\n",
    "        clean_url = s.lower().replace(\"&\", \"and\")          # replacing & with 'and'\n",
    "        clean_url = re.sub(r\"[^\\w\\s-]\", \"\", clean_url)     # removing all special characters at once\n",
    "        clean_url = re.sub(r\"[\\s_-]+\", \"_\", clean_url)     # replacing multiple spaces/underscores with single _\n",
    "        cleaned_urls.append(clean_url)\n",
    "\n",
    "# Step 2: Extracting individual pages' content\n",
    "    all_critics_scores = []\n",
    "    all_audience_scores = []\n",
    "    all_synopsis = []\n",
    "    all_networks = []\n",
    "    all_genres = []\n",
    "    all_ratings = []\n",
    "    all_languages = []\n",
    "    all_release_dates = []\n",
    "\n",
    "    \n",
    "    valid_ratings = [\"TV-Y\", \"TV-Y7\", \"TV-G\", \"TV-PG\", \"TV-14\", \"TV-MA\"]\n",
    "    valid_genres = [\"Action\", \"Adventure\", \"Animation\", \"Anime\", \"Biography\", \"Comedy\", \"Crime\", \"Documentary\", \"Drama\", \"Entertainment\",\n",
    "                \"Faith & Spirituality\", \"Fantasy\", \"Game Show\", \"LGBTQ+\", \"Health & Wellness\", \"History\", \"Holiday\", \"Horror\", \"House & Garden\", \n",
    "                \"Kids & Family\", \"Music\", \"Musical\", \"Mystery & Thriller\", \"Nature\", \"News\", \"Reality\", \"Romance\", \"Sci-Fi\", \"Short\", \"Soap\", \n",
    "                \"Special Interest\", \"Sports\", \"Stand-Up\", \"Talk Show\", \"Travel\", \"Variety\", \"War\", \"Western\"]\n",
    "\n",
    "    for show_url in cleaned_urls:\n",
    "        # building the individual URLs\n",
    "        full_url = f\"https://www.rottentomatoes.com/tv/{show_url}\"\n",
    "        data3 = requests.get(full_url)\n",
    "        time.sleep(1) # time delay\n",
    "        soup3 = BeautifulSoup(data3.text, 'lxml')\n",
    "        \n",
    "        # extracting all elements\n",
    "        final_elements = soup3.find_all('rt-text', attrs={'data-qa': 'item-value'})\n",
    "        genre_elements = soup3.find_all('rt-link', attrs={'data-qa': 'item-value'})\n",
    "        synopsis_element = soup3.find('rt-text', attrs={'data-qa': 'synopsis-value'})  \n",
    "        critic_element = soup3.find_all('rt-text', attrs={'slot': 'criticsScore'})\n",
    "        audience_element = soup3.find_all('rt-text', attrs={'slot': 'audienceScore'})\n",
    "\n",
    "        # pulling synopsis (Element 4)\n",
    "        synopsis = synopsis_element.get_text(strip=True) if synopsis_element else 'Missing'\n",
    "    \n",
    "        # pulling network, language, date, and ratings (Elements 5-8)  \n",
    "        if final_elements:\n",
    "            network = final_elements[0].get_text(strip=True)\n",
    "            language = final_elements[-2].get_text(strip=True)\n",
    "            date = final_elements[-1].get_text(strip=True)\n",
    "            ratings = final_elements[1].get_text(strip=True)\n",
    "        else:\n",
    "            network = language = date = ratings = 'Missing'\n",
    "\n",
    "        # rating validation\n",
    "        rating = ratings if ratings in valid_ratings else \"Missing\"\n",
    "        \n",
    "        # pulling critic scores (Element 9)\n",
    "        if critic_element:\n",
    "            critic_score = critic_element[0].get_text(strip=True)\n",
    "            critic_score = critic_score if critic_score else 'Missing' #also checking for instances where the element exists but no text\n",
    "        else:\n",
    "            critic_score = \"Missing\"\n",
    "\n",
    "        # pulling audience scores (Element 10)\n",
    "        if audience_element:    \n",
    "            audience_score = audience_element[0].get_text(strip=True)\n",
    "            audience_score = audience_score if audience_score else 'Missing' \n",
    "        else:\n",
    "            audience_score = \"Missing\"\n",
    "        \n",
    "        # pulling genres and validating (Element 11)\n",
    "        if genre_elements:\n",
    "            show_genres = [g.strip() for g in \"| \".join([elem.get_text(strip=True) for elem in genre_elements]).split('|')]\n",
    "            genre_list = [g for g in show_genres if g in valid_genres]\n",
    "            genre_string = ', '.join(genre_list) if genre_list else 'Missing'\n",
    "        else:\n",
    "            genre_string = 'Missing'\n",
    "\n",
    "        #error handling for cases where URL has \"2025\" attached\n",
    "        if critic_score == \"Missing\" and audience_score == \"Missing\":\n",
    "            retry_url = f\"https://www.rottentomatoes.com/tv/{show_url}_2025\"\n",
    "            retry_data = requests.get(retry_url)\n",
    "            time.sleep(1) # time delay\n",
    "            soup3 = BeautifulSoup(retry_data.text, 'lxml')  # Replace soup3 with new data\n",
    "        \n",
    "            # Re-extract scores from new page\n",
    "            critic_element = soup3.find_all('rt-text', attrs={'slot': 'criticsScore'})\n",
    "            audience_element = soup3.find_all('rt-text', attrs={'slot': 'audienceScore'})\n",
    "        \n",
    "            # Re-extract critic score\n",
    "            if critic_element:\n",
    "                critic_score = critic_element[0].get_text(strip=True)\n",
    "                critic_score = critic_score if critic_score else 'Missing'\n",
    "        \n",
    "            # Re-extract audience score\n",
    "            if audience_element:    \n",
    "                audience_score = audience_element[0].get_text(strip=True)\n",
    "                audience_score = audience_score if audience_score else 'Missing'\n",
    "        \n",
    "            # Re-extract other elements since we have a new soup3\n",
    "            final_elements = soup3.find_all('rt-text', attrs={'data-qa': 'item-value'})\n",
    "            genre_elements = soup3.find_all('rt-link', attrs={'data-qa': 'item-value'})\n",
    "            synopsis_element = soup3.find('rt-text', attrs={'data-qa': 'synopsis-value'})\n",
    "        \n",
    "            # Re-extract synopsis\n",
    "            synopsis = synopsis_element.get_text(strip=True) if synopsis_element else 'Missing'\n",
    "        \n",
    "            # Re-extract network, language, date, ratings\n",
    "            if final_elements:\n",
    "                network = final_elements[0].get_text(strip=True)\n",
    "                language = final_elements[-2].get_text(strip=True)\n",
    "                date = final_elements[-1].get_text(strip=True)\n",
    "                ratings = final_elements[1].get_text(strip=True)\n",
    "            else:\n",
    "                network = language = date = ratings = 'Missing'\n",
    "        \n",
    "            rating = ratings if ratings in valid_ratings else \"Missing\"\n",
    "        \n",
    "            # Re-extract genres\n",
    "            if genre_elements:\n",
    "                show_genres = [g.strip() for g in \"| \".join([elem.get_text(strip=True) for elem in genre_elements]).split('|')]\n",
    "                genre_list = [g for g in show_genres if g in valid_genres]\n",
    "                genre_string = ', '.join(genre_list) if genre_list else 'Missing'\n",
    "            else:\n",
    "                genre_string = 'Missing'\n",
    "        \n",
    "    # adding all data into their respective lists\n",
    "        all_synopsis.append(synopsis)\n",
    "        all_networks.append(network)\n",
    "        all_languages.append(language)\n",
    "        all_release_dates.append(date)\n",
    "        all_ratings.append(rating)\n",
    "        all_critics_scores.append(critic_score)\n",
    "        all_audience_scores.append(audience_score)\n",
    "        all_genres.append(genre_string)\n",
    "\n",
    "    print(\"Creating DataFrame...\")\n",
    "    \n",
    "    all_tv_shows = list(zip(all_shows, latest_episodes, all_critics_scores, all_audience_scores, cover_images, all_synopsis, \n",
    "                        all_networks, all_genres, all_ratings, all_languages, all_release_dates))\n",
    "\n",
    "    columns = [\"Show Name\", \"Latest Episode\", \"Critics Score\", \"Audience Score\", \"Cover Image\", \"Synopsis\",\n",
    "           \"Network\", \"Genre\", \"Rating\", \"Language\", \"Release Date\"]\n",
    "\n",
    "    TV_Shows = pd.DataFrame(all_tv_shows, columns = columns)\n",
    "\n",
    "    print(f\"Scraping completed! Retrieved {len(TV_Shows)} TV Shows\")\n",
    "    \n",
    "    return TV_Shows"
   ]
  },
  {
   "cell_type": "code",
   "execution_count": null,
   "id": "4f276fce-4b99-4745-a7d1-ef9aee94d8bf",
   "metadata": {},
   "outputs": [],
   "source": [
    "TV_Shows = scrap_movies(url)"
   ]
  },
  {
   "cell_type": "code",
   "execution_count": null,
   "id": "12e8ed1a-7ebd-446a-9801-766e669a19e0",
   "metadata": {
    "scrolled": true
   },
   "outputs": [],
   "source": [
    "TV_Shows.head(5)"
   ]
  },
  {
   "cell_type": "code",
   "execution_count": null,
   "id": "a02b7d07-5641-40ef-ae6b-b28f69466ae5",
   "metadata": {},
   "outputs": [],
   "source": [
    "TV_Shows.to_csv(\"TV_Shows.csv\", index=False)"
   ]
  },
  {
   "cell_type": "code",
   "execution_count": null,
   "id": "6057bd0f-7293-499d-9061-8f33547b973a",
   "metadata": {},
   "outputs": [],
   "source": [
    "# importing libraries for exploratory data analysis\n",
    "\n",
    "import pandas as pd\n",
    "import numpy as np\n",
    "\n",
    "import matplotlib.pyplot as plt\n",
    "import seaborn as sns\n",
    "import matplotlib as mpl\n",
    "\n",
    "import plotly #used to create interactive visualizations\n",
    "import plotly.express as px\n",
    "import plotly.graph_objs as go\n",
    "import plotly.offline as py\n",
    "from plotly.offline import iplot\n",
    "from plotly.subplots import make_subplots\n",
    "import plotly.figure_factory as ff\n",
    "\n",
    "import warnings\n",
    "warnings.filterwarnings(\"ignore\")"
   ]
  },
  {
   "cell_type": "code",
   "execution_count": null,
   "id": "93567bba-4b02-4f48-9288-bbd3ab98eeb3",
   "metadata": {},
   "outputs": [],
   "source": [
    "df = pd.read_csv(\"TV_Shows.csv\")"
   ]
  },
  {
   "cell_type": "code",
   "execution_count": null,
   "id": "9ffd070b-c7ea-4392-a4a5-4f9a300e00b4",
   "metadata": {},
   "outputs": [],
   "source": [
    "df.info"
   ]
  },
  {
   "cell_type": "code",
   "execution_count": null,
   "id": "98c1f762-8e4d-4221-9962-e502823c81f0",
   "metadata": {},
   "outputs": [],
   "source": [
    "df.isnull().sum()"
   ]
  },
  {
   "cell_type": "markdown",
   "id": "212c6436-542c-4209-ac3e-da431d58ff48",
   "metadata": {},
   "source": [
    "There are no missing values in this dataset"
   ]
  },
  {
   "cell_type": "code",
   "execution_count": null,
   "id": "432babc9-95b6-4db6-acf7-93deb9f246e8",
   "metadata": {},
   "outputs": [],
   "source": [
    "TV_Shows.shape"
   ]
  },
  {
   "cell_type": "code",
   "execution_count": null,
   "id": "10a0b191-46af-4bc4-bb6a-9222a45699f6",
   "metadata": {},
   "outputs": [],
   "source": [
    "TV_Shows.columns"
   ]
  },
  {
   "cell_type": "code",
   "execution_count": null,
   "id": "55b1c140-c210-4a0b-baed-99df6d1fb12b",
   "metadata": {},
   "outputs": [],
   "source": [
    "TV_Shows.describe()"
   ]
  },
  {
   "cell_type": "code",
   "execution_count": null,
   "id": "2cb74135-6ad3-4c69-bd57-9d90e635fa8d",
   "metadata": {},
   "outputs": [],
   "source": [
    "# Check missing data across all columns\n",
    "missing_data = (TV_Shows == 'Missing').sum()\n",
    "missing_data"
   ]
  },
  {
   "cell_type": "markdown",
   "id": "4e4edae5-e7b1-47e7-b109-4f3ed7371a78",
   "metadata": {},
   "source": [
    "## Network Analysis"
   ]
  },
  {
   "cell_type": "code",
   "execution_count": null,
   "id": "4844d4d1-eb83-47c4-9277-62f747cc4357",
   "metadata": {},
   "outputs": [],
   "source": [
    "unique_networks = TV_Shows['Network'].nunique()\n",
    "network_frequency = TV_Shows['Network'].value_counts()\n",
    "\n",
    "print(f\"There are {unique_networks} unique networks\")\n",
    "print(\"\")\n",
    "print(network_frequency.head(6))"
   ]
  },
  {
   "cell_type": "code",
   "execution_count": null,
   "id": "ff3fee77-b094-4266-8918-4d69735ce784",
   "metadata": {},
   "outputs": [],
   "source": [
    "print(f\"Average shows per network: {network_frequency.mean():.1f}\")\n",
    "print(f\"Most shows on single network: {network_frequency.max()}\")"
   ]
  },
  {
   "cell_type": "code",
   "execution_count": null,
   "id": "34f933d8-39c9-4a7b-ada8-27dd3720e887",
   "metadata": {},
   "outputs": [],
   "source": [
    "# Categorize networks by size\n",
    "major_networks = network_frequency[network_frequency >= 5]\n",
    "midsized_networks = network_frequency[network_frequency >=3]\n",
    "small_networks = network_frequency[network_frequency == 1]\n",
    "\n",
    "print(f\"Major networks (5+ shows): {len(major_networks)}\")\n",
    "print(f\"Mid-sized networks(3+ shows): {len(midsized_networks)}\")\n",
    "print(f\"Single-show networks: {len(small_networks)}\")"
   ]
  },
  {
   "cell_type": "markdown",
   "id": "d0de1785-b374-4383-b7f6-f4135e3d689e",
   "metadata": {},
   "source": [
    "## Ratings Analysis"
   ]
  },
  {
   "cell_type": "code",
   "execution_count": null,
   "id": "017aae16-4981-4bb7-88ba-395bd68dfd75",
   "metadata": {},
   "outputs": [],
   "source": [
    "#top 5 ratings\n",
    "unique_ratings = TV_Shows['Rating'].nunique()\n",
    "ratings_frequency = TV_Shows['Rating'].value_counts()\n",
    "\n",
    "print(f\"There are {unique_ratings} unique ratings\")\n",
    "print(\"\")\n",
    "print(ratings_frequency.head(5))"
   ]
  },
  {
   "cell_type": "code",
   "execution_count": null,
   "id": "1d55872e-3733-42c0-ad12-cbaf25edccb4",
   "metadata": {
    "scrolled": true
   },
   "outputs": [],
   "source": [
    "# Excluding 'Missing' from the result\n",
    "ratings_clean = TV_Shows[TV_Shows['Rating'] != 'Missing']['Rating'].value_counts()\n",
    "\n",
    "# Creating pie chart data\n",
    "pie_labels = list(ratings_clean.index)\n",
    "pie_values = list(ratings_clean.values)\n",
    "\n",
    "# Creating pie chart\n",
    "plt.figure(figsize=(6, 5))\n",
    "plt.pie(pie_values, labels=pie_labels, autopct='%1.1f%%', startangle=180)\n",
    "plt.title('Rating Distribution of TV Shows')\n",
    "plt.show()"
   ]
  },
  {
   "cell_type": "markdown",
   "id": "03a7478b-ee11-488d-b1b6-ac2ea781e2fc",
   "metadata": {},
   "source": [
    "Most released TV shows, a high 76.3%, are rated TV-MA (mature content) which must mean that there is greater appetite for such shows."
   ]
  },
  {
   "cell_type": "markdown",
   "id": "6a8f0aa8-5c9f-4de9-bc08-ea8cbbbe83b4",
   "metadata": {},
   "source": [
    "## Language Analysis"
   ]
  },
  {
   "cell_type": "code",
   "execution_count": null,
   "id": "501e69d7-6c9f-4fd4-928f-af99f178a173",
   "metadata": {},
   "outputs": [],
   "source": [
    "#top 5 languages\n",
    "unique_language = TV_Shows['Language'].nunique()\n",
    "language_frequency = TV_Shows['Language'].value_counts()\n",
    "\n",
    "print(f\"There are {unique_language} unique languages\")\n",
    "print(\"\")\n",
    "print(language_frequency)"
   ]
  },
  {
   "cell_type": "code",
   "execution_count": null,
   "id": "69908abe-94c8-4f24-87b3-3c50590e4c78",
   "metadata": {
    "scrolled": true
   },
   "outputs": [],
   "source": [
    "# Excluding 'Missing' from the result\n",
    "language_clean = TV_Shows[TV_Shows['Language'] != 'Missing']['Language'].value_counts()\n",
    "\n",
    "# Get top 4 languages\n",
    "languages_5 = language_clean.head(5)\n",
    "\n",
    "# Add remaining languages into one\n",
    "others_count = language_clean.iloc[5:].sum()\n",
    "\n",
    "# Creating pie chart data\n",
    "pie_labels = list(languages_5.index) + ['Others']\n",
    "pie_values = list(languages_5.values) + [others_count]\n",
    "\n",
    "# Creating pie chart\n",
    "plt.figure(figsize=(12, 8))\n",
    "plt.pie(pie_values, labels=pie_labels, autopct='%1.1f%%', startangle=180)\n",
    "plt.title('Language Distribution of TV Shows')\n",
    "plt.show()"
   ]
  },
  {
   "cell_type": "markdown",
   "id": "d75f9eda-7d99-4b82-82c7-1dcfe4eec528",
   "metadata": {},
   "source": [
    "English content dominates the TV shows market, with 90.2% of shows released in English language. The content is spread across Australian, British, and general (probably American) English. Yet, The remaining 9.8% of shows are spread across other languages, showing emerging international markets."
   ]
  },
  {
   "cell_type": "markdown",
   "id": "558660f7-701b-4726-b03a-ab1220ab4ee3",
   "metadata": {},
   "source": [
    "### Critics Score Analysis"
   ]
  },
  {
   "cell_type": "code",
   "execution_count": null,
   "id": "6b34d202-663b-4238-a0c9-a3aa7fa1ecdb",
   "metadata": {},
   "outputs": [],
   "source": [
    "critics = TV_Shows[TV_Shows['Critics Score'] != 'Missing']['Critics Score']\n",
    "print(f\"Shows with critics scores: {len(critics)}\")\n",
    "\n",
    "# removing % sign\n",
    "critics_numeric = critics.str.replace('%', '').astype(int)\n",
    "\n",
    "# Critics score statistics\n",
    "print(f\"Average: {critics_numeric.mean():.1f}%\")\n",
    "print(f\"Median: {critics_numeric.median():.1f}%\")\n",
    "print(f\"Highest: {critics_numeric.max()}%\")\n",
    "print(f\"Lowest: {critics_numeric.min()}%\")"
   ]
  },
  {
   "cell_type": "markdown",
   "id": "fdcca4a5-4aae-4975-994a-02cb6089bde2",
   "metadata": {},
   "source": [
    "### Audience Score Analysis"
   ]
  },
  {
   "cell_type": "code",
   "execution_count": null,
   "id": "c18e7920-c966-4ee4-9902-b0c13070911d",
   "metadata": {},
   "outputs": [],
   "source": [
    "audience = TV_Shows[TV_Shows['Audience Score'] != 'Missing']['Audience Score']\n",
    "print(f\"Shows with audience scores: {len(audience)}\")\n",
    "\n",
    "# removing % sign\n",
    "audience_numeric = audience.str.replace('%', '').astype(int)\n",
    "\n",
    "# Critics score statistics\n",
    "print(f\"Average: {audience_numeric.mean():.1f}%\")\n",
    "print(f\"Median: {audience_numeric.median():.1f}%\")\n",
    "print(f\"Highest: {audience_numeric.max()}%\")\n",
    "print(f\"Lowest: {audience_numeric.min()}%\")"
   ]
  },
  {
   "cell_type": "markdown",
   "id": "4388a683-f2be-485b-bb83-362d621c8fc6",
   "metadata": {},
   "source": [
    "### Release Date Analysis"
   ]
  },
  {
   "cell_type": "code",
   "execution_count": null,
   "id": "163fcab2-5b93-44ee-8276-ecdc12e1369d",
   "metadata": {},
   "outputs": [],
   "source": [
    "release_years = []\n",
    "\n",
    "for date in TV_Shows['Release Date']:\n",
    "    if date != 'Missing':\n",
    "        parts = date.split()\n",
    "        for part in parts:\n",
    "            if len(part) == 4 and part.isdigit():\n",
    "                year = int(part)\n",
    "                if 1990 <= year <= 2025:  # reasonable range\n",
    "                    release_years.append(year)\n",
    "                    break\n",
    "\n",
    "year_counts = pd.Series(release_years).value_counts().sort_index()\n",
    "print(\"Shows by Release Year:\")\n",
    "print(year_counts)\n",
    "print(f\"\\nYear with most releases: {year_counts.idxmax()} ({year_counts.max()} shows)\")"
   ]
  },
  {
   "cell_type": "code",
   "execution_count": null,
   "id": "3b46c284-d968-4bef-8f88-1b511613807a",
   "metadata": {},
   "outputs": [],
   "source": [
    "# working with top 5 networks\n",
    "top_networks = TV_Shows['Network'].value_counts().head(6).index\n",
    "\n",
    "networks = []\n",
    "critics_scores = []\n",
    "audience_scores = []\n",
    "\n",
    "for network in top_networks:\n",
    "    network_shows = TV_Shows[TV_Shows['Network'] == network]\n",
    "    \n",
    "    critics_data = network_shows[network_shows['Critics Score'] != 'Missing']['Critics Score']\n",
    "    critics_avg = critics_data.str.replace('%', '').astype(int).mean() if len(critics_data) > 0 else 0\n",
    "    \n",
    "    audience_data = network_shows[network_shows['Audience Score'] != 'Missing']['Audience Score']\n",
    "    audience_avg = audience_data.str.replace('%', '').astype(int).mean() if len(audience_data) > 0 else 0\n",
    "\n",
    "    networks.append(network)\n",
    "    critics_scores.append(critics_avg)\n",
    "    audience_scores.append(audience_avg)\n",
    "\n",
    "# Create bar chart\n",
    "plt.figure(figsize=(10, 6))\n",
    "x = range(len(networks))\n",
    "plt.bar([i-0.2 for i in x], critics_scores, width=0.4, label='Critics', color='blue')\n",
    "plt.bar([i+0.2 for i in x], audience_scores, width=0.4, label='Audience', color='red')\n",
    "\n",
    "plt.xlabel('Network')\n",
    "plt.ylabel('Average Score (%)')\n",
    "plt.title('Critics vs Audience Scores by Network')\n",
    "plt.xticks(x, networks)\n",
    "plt.legend()\n",
    "plt.show()"
   ]
  },
  {
   "cell_type": "markdown",
   "id": "72e909c1-ed12-4b6e-ba4c-488d10486fef",
   "metadata": {},
   "source": [
    "### Genre Analysis"
   ]
  },
  {
   "cell_type": "code",
   "execution_count": null,
   "id": "84b6a5c2-380b-4ba3-be5a-57607663bd46",
   "metadata": {},
   "outputs": [],
   "source": [
    "# Genre vs Critics Score\n",
    "genre_critic_scores = []\n",
    "\n",
    "for i in range(len(TV_Shows)):\n",
    "    genre = TV_Shows.iloc[i]['Genre']\n",
    "    critic_score = TV_Shows.iloc[i]['Critics Score']\n",
    "    \n",
    "    if genre != 'Missing' and critic_score != 'Missing':\n",
    "        # Handle multiple genres (split by comma)\n",
    "        genres = [g.strip() for g in genre.split(',')]\n",
    "        score = int(critic_score.replace('%', ''))\n",
    "        \n",
    "        for g in genres:\n",
    "            genre_critic_scores.append([g, score])\n",
    "\n",
    "# Create DataFrame for easier analysis\n",
    "genre_scores_df = pd.DataFrame(genre_critic_scores, columns=['Genre', 'Score'])\n",
    "\n",
    "# Calculate average score per genre\n",
    "genre_avg_critics = genre_scores_df.groupby('Genre')['Score'].mean().sort_values(ascending=False)\n",
    "\n",
    "# Create bar chart\n",
    "plt.figure(figsize=(12, 6))\n",
    "plt.bar(range(len(genre_avg_critics)), genre_avg_critics.values, color='green')\n",
    "plt.xlabel('Genre')\n",
    "plt.ylabel('Average Critics Score (%)')\n",
    "plt.title('Average Critics Scores by Genre')\n",
    "plt.xticks(range(len(genre_avg_critics)), genre_avg_critics.index, rotation=45, ha='right')\n",
    "\n",
    "plt.tight_layout()\n",
    "plt.show()"
   ]
  },
  {
   "cell_type": "markdown",
   "id": "afb46cb2-08d1-4dde-ae64-a746f0836ca8",
   "metadata": {},
   "source": [
    "Critics are more benevolent towards their ratings for Anime, offering an average of 100% compared to Romance with a rating below 80%"
   ]
  },
  {
   "cell_type": "code",
   "execution_count": null,
   "id": "0e4a436e-860a-46d3-87d7-899b2bb32b89",
   "metadata": {},
   "outputs": [],
   "source": [
    "# Genre vs Critics Score\n",
    "genre_audience_scores = []\n",
    "\n",
    "for i in range(len(TV_Shows)):\n",
    "    genre = TV_Shows.iloc[i]['Genre']\n",
    "    audience_score = TV_Shows.iloc[i]['Audience Score']\n",
    "    \n",
    "    if genre != 'Missing' and audience_score != 'Missing':\n",
    "        # Handle multiple genres (split by comma)\n",
    "        genres = [g.strip() for g in genre.split(',')]\n",
    "        score = int(audience_score.replace('%', ''))\n",
    "        \n",
    "        for g in genres:\n",
    "            genre_audience_scores.append([g, score])\n",
    "\n",
    "# Create DataFrame for easier analysis\n",
    "genre_score_df = pd.DataFrame(genre_audience_scores, columns=['Genre', 'Score'])\n",
    "\n",
    "# Calculate average score per genre\n",
    "genre_avg_aud = genre_score_df.groupby('Genre')['Score'].mean().sort_values(ascending=False)\n",
    "\n",
    "# Create bar chart\n",
    "plt.figure(figsize=(12, 6))\n",
    "plt.bar(range(len(genre_avg_aud)), genre_avg_aud.values, color='lightblue')\n",
    "plt.xlabel('Genre')\n",
    "plt.ylabel('Average Audience Score (%)')\n",
    "plt.title('Average Audience Scores by Genre')\n",
    "plt.xticks(range(len(genre_avg_aud)), genre_avg_aud.index, rotation=45, ha='right')\n",
    "\n",
    "plt.tight_layout()\n",
    "plt.show()"
   ]
  },
  {
   "cell_type": "markdown",
   "id": "987f2fc9-b24a-4eaa-8176-92d97532ffab",
   "metadata": {},
   "source": [
    "The audience seems to be more favourable towards documentaries, which got the highest rating of 100%, but romance still falls on the low end of below 80%"
   ]
  },
  {
   "cell_type": "code",
   "execution_count": null,
   "id": "e3e95aa4-25b3-4d9a-bfd9-62451d5eb343",
   "metadata": {},
   "outputs": [],
   "source": [
    "top_networks = TV_Shows['Network'].value_counts().head(8).index\n",
    "\n",
    "network_best_genres = []\n",
    "\n",
    "for network in top_networks:\n",
    "    network_shows = TV_Shows[TV_Shows['Network'] == network]\n",
    "    \n",
    "    # Get genre-audience scores for this network only\n",
    "    network_genre_scores = []\n",
    "    \n",
    "    for i in range(len(network_shows)):\n",
    "        genre = network_shows.iloc[i]['Genre']\n",
    "        audience_score = network_shows.iloc[i]['Audience Score']\n",
    "        \n",
    "        if genre != 'Missing' and audience_score != 'Missing':\n",
    "            genres = [g.strip() for g in genre.split(',')]\n",
    "            score = int(audience_score.replace('%', ''))\n",
    "            \n",
    "            for g in genres:\n",
    "                network_genre_scores.append([g, score])\n",
    "    \n",
    "    # Find this network's highest rated genre\n",
    "    if network_genre_scores:\n",
    "        network_df = pd.DataFrame(network_genre_scores, columns=['Genre', 'Score'])\n",
    "        network_genre_avg = network_df.groupby('Genre')['Score'].mean()\n",
    "        \n",
    "        best_genre = network_genre_avg.idxmax()\n",
    "        best_score = network_genre_avg.max()\n",
    "        network_best_genres.append([network, best_genre, best_score])\n",
    "\n",
    "# Visualization\n",
    "networks = [item[0] for item in network_best_genres]\n",
    "scores = [item[2] for item in network_best_genres]\n",
    "genres = [item[1] for item in network_best_genres]\n",
    "\n",
    "plt.figure(figsize=(8, 6))\n",
    "bars = plt.bar(networks, scores, color='skyblue')\n",
    "\n",
    "for bar, genre, score in zip(bars, genres, scores):\n",
    "    plt.text(bar.get_x() + bar.get_width()/2, bar.get_height() + 1, \n",
    "             f'{genre}\\n{score:.1f}%', ha='center', va='bottom')\n",
    "\n",
    "plt.title('Each Network\\'s Best Performing Genre (Audience Score)')\n",
    "plt.ylabel('Average Score (%)')\n",
    "plt.xticks(rotation=45)\n",
    "plt.tight_layout()\n",
    "plt.show()"
   ]
  },
  {
   "cell_type": "code",
   "execution_count": null,
   "id": "ea43e034-cc7b-4757-82f9-14cab06c6d28",
   "metadata": {},
   "outputs": [],
   "source": [
    "top_networks = TV_Shows['Network'].value_counts().head(8).index\n",
    "\n",
    "network_best_genres = []\n",
    "\n",
    "for network in top_networks:\n",
    "    network_shows = TV_Shows[TV_Shows['Network'] == network]\n",
    "    \n",
    "    # Get genre-critic scores for this network only\n",
    "    network_genre_scores = []\n",
    "    \n",
    "    for i in range(len(network_shows)):\n",
    "        genre = network_shows.iloc[i]['Genre']\n",
    "        critics_score = network_shows.iloc[i]['Critics Score']\n",
    "        \n",
    "        if genre != 'Missing' and critics_score != 'Missing':\n",
    "            genres = [g.strip() for g in genre.split(',')]\n",
    "            score = int(critics_score.replace('%', ''))\n",
    "            \n",
    "            for g in genres:\n",
    "                network_genre_scores.append([g, score])\n",
    "    \n",
    "    # Find this network's highest rated genre\n",
    "    if network_genre_scores:\n",
    "        network_df = pd.DataFrame(network_genre_scores, columns=['Genre', 'Score'])\n",
    "        network_genre_avg = network_df.groupby('Genre')['Score'].mean()\n",
    "        \n",
    "        best_genre = network_genre_avg.idxmax()\n",
    "        best_score = network_genre_avg.max()\n",
    "        network_best_genres.append([network, best_genre, best_score])\n",
    "\n",
    "# Visualization\n",
    "networks = [item[0] for item in network_best_genres]\n",
    "scores = [item[2] for item in network_best_genres]\n",
    "genres = [item[1] for item in network_best_genres]\n",
    "\n",
    "plt.figure(figsize=(8, 6))\n",
    "bars = plt.bar(networks, scores, color='orange')\n",
    "\n",
    "for bar, genre, score in zip(bars, genres, scores):\n",
    "    plt.text(bar.get_x() + bar.get_width()/2, bar.get_height() + 1, \n",
    "             f'{genre}\\n{score:.1f}%', ha='center', va='bottom')\n",
    "\n",
    "plt.title('Each Network\\'s Best Performing Genre (Critics Score)')\n",
    "plt.ylabel('Average Score (%)')\n",
    "plt.xticks(rotation=45)\n",
    "plt.tight_layout()\n",
    "plt.show()"
   ]
  },
  {
   "cell_type": "markdown",
   "id": "f117fa38-7731-49f3-8f20-79a42116e2e8",
   "metadata": {},
   "source": [
    "Comedy and Action are more preferred by both audiences and critics"
   ]
  },
  {
   "cell_type": "code",
   "execution_count": null,
   "id": "22b6e2c2-3c80-4569-9761-035e12885bb6",
   "metadata": {
    "scrolled": true
   },
   "outputs": [],
   "source": [
    "# Categorize languages into English vs Other\n",
    "english_variants = ['English', 'Australian English', 'British English']\n",
    "\n",
    "# Separate shows by language category\n",
    "english_critic_scores = []\n",
    "other_critic_scores = []\n",
    "english_audience_scores = []\n",
    "other_audience_scores = []\n",
    "\n",
    "for i in range(len(TV_Shows)):\n",
    "    language = TV_Shows.iloc[i]['Language']\n",
    "    critic_score = TV_Shows.iloc[i]['Critics Score']\n",
    "    audience_score = TV_Shows.iloc[i]['Audience Score']\n",
    "    \n",
    "    if language != 'Missing':\n",
    "        # Check if it's an English variant\n",
    "        is_english = language in english_variants\n",
    "        \n",
    "        # Add critic scores\n",
    "        if critic_score != 'Missing':\n",
    "            score = int(critic_score.replace('%', ''))\n",
    "            if is_english:\n",
    "                english_critic_scores.append(score)\n",
    "            else:\n",
    "                other_critic_scores.append(score)\n",
    "        \n",
    "        # Add audience scores\n",
    "        if audience_score != 'Missing':\n",
    "            score = int(audience_score.replace('%', ''))\n",
    "            if is_english:\n",
    "                english_audience_scores.append(score)\n",
    "            else:\n",
    "                other_audience_scores.append(score)\n",
    "\n",
    "# Calculate averages\n",
    "english_critic_avg = sum(english_critic_scores) / len(english_critic_scores) if english_critic_scores else 0\n",
    "other_critic_avg = sum(other_critic_scores) / len(other_critic_scores) if other_critic_scores else 0\n",
    "english_audience_avg = sum(english_audience_scores) / len(english_audience_scores) if english_audience_scores else 0\n",
    "other_audience_avg = sum(other_audience_scores) / len(other_audience_scores) if other_audience_scores else 0\n",
    "\n",
    "# Visualization\n",
    "categories = ['English Shows', 'International Languages']\n",
    "critic_scores = [english_critic_avg, other_critic_avg]\n",
    "audience_scores = [english_audience_avg, other_audience_avg]\n",
    "\n",
    "plt.figure(figsize=(10, 10))\n",
    "x = range(len(categories))\n",
    "plt.bar([i-0.2 for i in x], critic_scores, width=0.4, label='Critics', color='blue')\n",
    "plt.bar([i+0.2 for i in x], audience_scores, width=0.4, label='Audience', color='red')\n",
    "\n",
    "plt.xlabel('Languages')\n",
    "plt.ylabel('Average Score (%)')\n",
    "plt.title('English vs International Languages - Critics vs Audience Scores')\n",
    "plt.xticks(x, categories)\n",
    "\n",
    "# Add value labels\n",
    "for i, (critic, audience) in enumerate(zip(critic_scores, audience_scores)):\n",
    "    plt.text(i-0.2, critic + 1, f'{critic:.1f}%', ha='center', va='bottom')\n",
    "    plt.text(i+0.2, audience + 1, f'{audience:.1f}%', ha='center', va='bottom')\n",
    "\n",
    "plt.tight_layout()\n",
    "plt.show()"
   ]
  },
  {
   "cell_type": "markdown",
   "id": "75eae2d4-b528-44bc-b6f6-3ae550d8d456",
   "metadata": {},
   "source": [
    "International languages like French and Korean score higher for both critics and audiences. We cannot use this inference directly in our recommendation because of the large gap in sample sizes. However, networks should consider some more diversity and release more international movies as both audiences and critics are well accepting of them"
   ]
  },
  {
   "cell_type": "code",
   "execution_count": null,
   "id": "6cfc72d7-a7c1-44a4-bfac-a4939f9b9560",
   "metadata": {},
   "outputs": [],
   "source": [
    "# Genre across Networks (excluding Missing)\n",
    "top_networks = TV_Shows[TV_Shows['Network'] != 'Missing']['Network'].value_counts().head(5).index\n",
    "\n",
    "# Get top genres (excluding Missing)\n",
    "all_genres = []\n",
    "for genre_string in TV_Shows['Genre']:\n",
    "    if genre_string != 'Missing':\n",
    "        genres = [g.strip() for g in genre_string.split(',')]\n",
    "        all_genres.extend(genres)\n",
    "\n",
    "top_genres = pd.Series(all_genres).value_counts().head(5).index\n",
    "\n",
    "# Create data for heatmap-style visualization (excluding Missing)\n",
    "network_genre_data = {}\n",
    "for network in top_networks:\n",
    "    network_shows = TV_Shows[(TV_Shows['Network'] == network) & (TV_Shows['Genre'] != 'Missing')]\n",
    "    \n",
    "    network_genre_data[network] = {}\n",
    "    for genre in top_genres:\n",
    "        count = 0\n",
    "        for i in range(len(network_shows)):\n",
    "            show_genre = network_shows.iloc[i]['Genre']\n",
    "            if genre in show_genre:\n",
    "                count += 1\n",
    "        network_genre_data[network][genre] = count\n",
    "\n",
    "# Create visualization\n",
    "plt.figure(figsize=(8, 6))\n",
    "\n",
    "# Prepare data for grouped bar chart\n",
    "genres_list = list(top_genres)\n",
    "x = range(len(genres_list))\n",
    "width = 0.15\n",
    "\n",
    "colors = ['skyblue', 'lightcoral', 'lightgreen', 'gold', 'plum']\n",
    "\n",
    "for i, network in enumerate(top_networks):\n",
    "    values = [network_genre_data[network][genre] for genre in genres_list]\n",
    "    plt.bar([j + width*i for j in x], values, width, label=network, color=colors[i])\n",
    "\n",
    "plt.xlabel('Genre')\n",
    "plt.ylabel('Number of Shows')\n",
    "plt.title('Genre Distribution Across Top 5 Networks')\n",
    "plt.xticks([j + width*2 for j in x], genres_list, rotation=45)\n",
    "plt.legend()\n",
    "plt.tight_layout()\n",
    "plt.show()"
   ]
  },
  {
   "cell_type": "code",
   "execution_count": null,
   "id": "89cd5f29-2bb7-4fbf-891c-e54454b1cbde",
   "metadata": {},
   "outputs": [],
   "source": []
  },
  {
   "cell_type": "markdown",
   "id": "e5343793-fcb1-45dd-95cd-4038e316a72d",
   "metadata": {},
   "source": [
    "TV shows from Netflix are distributed across multiple genres, with a heavy focus on drama (64% of 25 Netflix shows)"
   ]
  },
  {
   "cell_type": "markdown",
   "id": "df31fe45-e4ce-4d49-af5d-745b4e43ac3d",
   "metadata": {},
   "source": [
    "### Database Storage"
   ]
  },
  {
   "cell_type": "code",
   "execution_count": null,
   "id": "689a56c2-06b6-4031-8651-39685813cd5a",
   "metadata": {},
   "outputs": [],
   "source": [
    "import pymysql\n",
    "DB_CONFIG = {\n",
    "    'host': 'localhost',\n",
    "    'user': 'root',\n",
    "    'password': '12345',\n",
    "    'database': 'practice'\n",
    "}"
   ]
  },
  {
   "cell_type": "code",
   "execution_count": null,
   "id": "4278cd67-feae-40de-b632-3038ab35a29c",
   "metadata": {},
   "outputs": [],
   "source": [
    "create_table_query = \"\"\"\n",
    "CREATE TABLE IF NOT EXISTS MOVIES (\n",
    "    id INT AUTO_INCREMENT PRIMARY KEY,\n",
    "    Show_Name VARCHAR(255),\n",
    "    Latest_Episode VARCHAR(50),\n",
    "    Critics_Score VARCHAR(10),\n",
    "    Audience_Score VARCHAR(10),\n",
    "    Cover_Image TEXT,\n",
    "    Synopsis TEXT,\n",
    "    Network VARCHAR(100),\n",
    "    Genre VARCHAR(200),\n",
    "    Rating VARCHAR(20),\n",
    "    Language VARCHAR(50),\n",
    "    Release_Date VARCHAR(50),\n",
    "    created_at TIMESTAMP DEFAULT CURRENT_TIMESTAMP\n",
    ")\n",
    "\"\"\"\n",
    "\n",
    "cursor.execute(create_table_query)\n",
    "mydb.commit()\n",
    "print(\"MOVIES table created successfully!\")"
   ]
  },
  {
   "cell_type": "code",
   "execution_count": null,
   "id": "0902a1ac-189b-4f2b-a578-b2ecaefe4c38",
   "metadata": {},
   "outputs": [],
   "source": [
    "insert_data_query = \"\"\"\n",
    "INSERT INTO MOVIES (Show_Name, Latest_Episode, Critics_Score, Audience_Score, Cover_Image, Synopsis, Network, Genre, Rating, Language, Release_Date)\n",
    "VALUES (%s, %s, %s, %s, %s, %s, %s, %s, %s, %s, %s)\n",
    "\"\"\"\n",
    "\n",
    "data_to_insert = []\n",
    "for index, row in TV_Shows.iterrows():\n",
    "    data_to_insert.append((\n",
    "        row['Show Name'],\n",
    "        row['Latest Episode'], \n",
    "        row['Critics Score'],\n",
    "        row['Audience Score'],\n",
    "        row['Cover Image'],\n",
    "        row['Synopsis'],\n",
    "        row['Network'],\n",
    "        row['Genre'],\n",
    "        row['Rating'],\n",
    "        row['Language'],\n",
    "        row['Release Date']\n",
    "    ))"
   ]
  },
  {
   "cell_type": "code",
   "execution_count": null,
   "id": "077f87c6-fb3c-4d04-8c2f-6a71fa81f01d",
   "metadata": {},
   "outputs": [],
   "source": [
    "cursor.executemany(insert_data_query, data_to_insert)\n",
    "mydb.commit()\n",
    "print(f\" Inserted {len(data_to_insert)} TV shows into MOVIES table\")"
   ]
  },
  {
   "cell_type": "code",
   "execution_count": null,
   "id": "acde051f-9650-450c-b174-bdffe7e29050",
   "metadata": {
    "scrolled": true
   },
   "outputs": [],
   "source": [
    "read_back_df = pd.read_sql(\"SELECT * FROM MOVIES\", mydb)\n",
    "print(read_back_df.head(3))"
   ]
  },
  {
   "cell_type": "code",
   "execution_count": null,
   "id": "1b98493e-e703-49d3-88d0-d70677974b7b",
   "metadata": {},
   "outputs": [],
   "source": []
  }
 ],
 "metadata": {
  "kernelspec": {
   "display_name": "Python 3 (ipykernel)",
   "language": "python",
   "name": "python3"
  },
  "language_info": {
   "codemirror_mode": {
    "name": "ipython",
    "version": 3
   },
   "file_extension": ".py",
   "mimetype": "text/x-python",
   "name": "python",
   "nbconvert_exporter": "python",
   "pygments_lexer": "ipython3",
   "version": "3.12.4"
  }
 },
 "nbformat": 4,
 "nbformat_minor": 5
}
